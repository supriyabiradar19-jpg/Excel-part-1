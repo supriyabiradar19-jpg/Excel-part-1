{
  "nbformat": 4,
  "nbformat_minor": 0,
  "metadata": {
    "colab": {
      "provenance": []
    },
    "kernelspec": {
      "name": "python3",
      "display_name": "Python 3"
    },
    "language_info": {
      "name": "python"
    }
  },
  "cells": [
    {
      "cell_type": "code",
      "execution_count": null,
      "metadata": {
        "id": "jVWgInxuCn01"
      },
      "outputs": [],
      "source": [
        "1.  : What is the difference between 'Paste' and 'Paste Special' in Excel? Briefly explain with examples.\n",
        "\n",
        "    -> In Excel, Paste applies all copied content and formatting, while Paste Special offers options to selectively paste only values,\n",
        "     formulas, formatting, or other specific attributes of the copied data, providing greater control over the pasted information.\n",
        "\n",
        "      #  Paste (Ctrl + V)\n",
        "\n",
        "What it does:\n",
        "         Copies the exact content, including any formulas, values, and formatting, from the original cell.\n",
        "Example:\n",
        "      You copy a cell with a formula like =SUM(A1:A5) and a specific color. Pressing Ctrl + V will paste the formula and the color to\n",
        "         the new cell, and if A1:A5 are different in the new sheet, the formula will update accordingly.\n",
        "\n",
        "# Paste Special\n",
        "What it does:\n",
        "      Opens a dialog box (or a context menu) with several options to choose what you want to paste.\n",
        "Example Scenarios:\n",
        "Pasting Values:\n",
        "      You want to copy a cell with a formula, but you only want the result of the formula, not the formula itself.\n",
        "Action:\n",
        "         Copy the cell, right-click the destination, and select Paste Special > Values.\n",
        "Pasting Formatting:\n",
        "       You have a cell with specific font, colors, and borders that you want to apply to another cell that has different content.\n",
        "Action:\n",
        "       Copy the cell, right-click the destination, and select Paste Special > Formats.\n",
        "\n"
      ]
    },
    {
      "cell_type": "code",
      "source": [
        "2.  : Describe the functions and usefulness of 'Freeze Panes' and 'Split Panes' in Excel.\n",
        "\n",
        "    -> In Excel, Freeze Panes locks specified rows and/or columns in place, making them always visible while scrolling, which is useful\n",
        "      keeping headers or key identifiers in view. Split Panes creates independent viewing windows of the same worksheet, allowing you to\n",
        "      scroll through different sections  of the data side-by-side simultaneously, which is helpful for comparing unrelated parts of a large dataset.\n",
        "\n",
        "\n",
        "# Freeze Panes\n",
        "Function:\n",
        "      Locks specific rows, columns, or both in place so they remain visible as you scroll through the rest of the worksheet.\n",
        "Usefulness:\n",
        "Maintains Context:\n",
        "      Keeps header rows or column identifiers (like names or IDs) visible, providing context for the data you're viewing.\n",
        "Large Datasets:\n",
        "       Essential for navigating large spreadsheets by ensuring important information is always accessible.\n",
        "Data Comparison:\n",
        "       Makes comparing different parts of a large dataset easier by keeping relevant labels in view.\n",
        "\n",
        "# Split Panes\n",
        "\n",
        "Function:\n",
        "     Divides the worksheet into multiple independent panes, each with its own scrollbars, allowing you to view and scroll different parts of the same worksheet at the same time.\n",
        "Usefulness:\n",
        "Simultaneous Viewing:\n",
        "       Allows you to view and compare unrelated sections of a very large spreadsheet without having to scroll back and forth.\n",
        "Independent Scrolling:\n",
        "       Each pane can be scrolled independently, which is helpful for scenarios where you need to compare columns or rows that are far apart.\n",
        "Specific Section Comparison:\n",
        "        Ideal for when you need to see data from a far-off column or row and compare it to the visible data simultaneously.\n",
        "\n"
      ],
      "metadata": {
        "id": "0Z7IJTdhEIAp"
      },
      "execution_count": null,
      "outputs": []
    },
    {
      "cell_type": "code",
      "source": [
        "3.  : Explain the difference between inserting a new row and inserting a new column in Excel. Can you insert multiple rows or columns at once?\n",
        "\n",
        "   -> Inserting a row adds a horizontal blank space for new records, while inserting a column adds a vertical blank space for new data categories.\n",
        "\n",
        "\n",
        "# Inserting a Row vs. a Column\n",
        "Row:\n",
        "      Inserts a new, blank horizontal line of cells, pushing existing data down. This is ideal for adding new entries or records to a dataset.\n",
        "Column:\n",
        "      Inserts a new, blank vertical line of cells, pushing existing data to the right. This is useful for adding new types of data or fields to a record.\n",
        "\n",
        "# How to Insert Rows or Columns\n",
        "\n",
        "# You can insert rows and columns using a few different methods:\n",
        "Method 1: Using the Right-Click Menu\n",
        "Select:\n",
        "      the row above which you want to insert a new row, or the column to the left of which you want to insert a new column.\n",
        "         To select an entire row or column, click on the row or column header.\n",
        "Right-click:\n",
        "     on the selected row or column.\n",
        "From the context menu, choose \"Insert\" to insert a single row above or a single column to the left.\n",
        "Method 2: Using the Ribbon\n",
        "Select: a cell in the row or column where you want the new row or column to appear.\n",
        "\n",
        "# Go to the Home tab.\n",
        "\n",
        "In the \"Cells\" group, click the arrow next to the \"Insert\" button.\n",
        "Choose \"Insert Sheet Rows\" or \"Insert Sheet Columns\" from the dropdown menu.\n",
        "Method 3: Inserting Multiple Rows or Columns\n",
        "Select: the number of contiguous rows or columns you wish to insert.\n",
        "\n",
        "# Right-click: on your selection.\n",
        "\n",
        "Choose \"Insert\" from the context menu. You will get a new set of blank rows or columns equal to the number you selected.\n",
        "\n"
      ],
      "metadata": {
        "id": "wbiTiOQoE2gp"
      },
      "execution_count": null,
      "outputs": []
    },
    {
      "cell_type": "code",
      "source": [
        "4.  : What are logical functions in Excel? Provide examples of at least two logical functions and their applications.\n",
        "\n",
        "    -> Logical functions in Excel perform tests on data to return a TRUE or FALSE result, enabling automated decision-making in spreadsheets.\n",
        "\n",
        "# IF function\n",
        "Purpose:\n",
        "     To perform a logical test and return one value if the test is TRUE and another if it is FALSE.\n",
        "Syntax\n",
        "      : =IF(logical_test, value_if_true, [value_if_false])\n",
        "Application:\n",
        "       In a student grading system, you could use =IF(A1>=50, \"Pass\", \"Fail\") to automatically mark a student as \"Pass\" if their score\n",
        "      in cell A1 is 50 or higher, and \"Fail\" otherwise.\n",
        "# AND function\n",
        "Purpose:\n",
        "      To evaluate multiple conditions and return TRUE if all of them are met, and FALSE if any condition is not met.\n",
        "Syntax:\n",
        "      =AND(logical1, logical2, ...)\n",
        "Application:\n",
        "          To determine if a salesperson is eligible for a bonus. You might use =AND(B2>=10000, C2=\"North\") to award a bonus only if\n",
        "            the sales amount in cell B2 is $10,000 or more AND the region in cell C2 is \"North\".\n",
        "\n",
        "\n",
        "\n"
      ],
      "metadata": {
        "id": "MQFwaYYvGQ8q"
      },
      "execution_count": null,
      "outputs": []
    },
    {
      "cell_type": "code",
      "source": [
        "5.  : Discuss the purpose of 'XLOOKUP' and how it differs from the traditional 'VLOOKUP' function.\n",
        "\n",
        "   ->  Feature                 \tXLOOKUP         \t                              VLOOKUP\n",
        "\n",
        "* Lockup Type             * More versatile, handles both vertical         * primary for vertical lookups.\n",
        "                            and horizental lookups.\n",
        "\n",
        "\n",
        "* Syntax                 * Easier syntax, with no needs to specify       * Requires specifying index, which can\n",
        "                           column numbers.                                 be cumbersome.\n",
        "\n",
        "\n",
        "* Error Handling         * Built-in error handling with custom           * Basic error handling using the \"IFERROR\"\n",
        "                           error messages.                                 function .\n",
        "\n",
        "\n",
        "\n",
        "* Search Flexibility     * Supports wildcards for flexible               * Defaults to exact matches, reuires extra\n",
        "                            search.                                        steps for appoximate mathches.\n",
        "\n",
        "\n",
        "\n",
        "* Return Values          * Can return arrays of values.                   * Return a single value, not suitable for multiple matches.\n"
      ],
      "metadata": {
        "id": "PeH4-IsFG4Ur"
      },
      "execution_count": null,
      "outputs": []
    },
    {
      "cell_type": "code",
      "source": [
        "6.  : Create a worksheet titled 'Employee Data' with columns: Name, Age,\n",
        "Department. Add 5 rows of data.\n",
        "Format as follows:\n",
        "● Bold and center-align the header row\n",
        "● Apply a fill color\n",
        "● Auto-fit column width\n",
        "\n",
        "\n",
        "   ->"
      ],
      "metadata": {
        "id": "8mlwSxUYG4a9"
      },
      "execution_count": null,
      "outputs": []
    },
    {
      "cell_type": "code",
      "source": [
        "7.  : Demonstrate how to insert and delete multiple rows and columns in Excel.\n",
        "\n",
        "    -> To insert multiple rows or columns in Excel, select the same number of rows or columns where you want\n",
        "        to insert new ones and then right-click and select Insert.\n",
        "\n",
        "\n",
        "# To Insert Multiple Rows/Columns\n",
        "Select:\n",
        "      the number of rows or columns where you want new ones to appear. For example, to insert three rows, select three row headings.\n",
        "Right-click:\n",
        "      on any of the selected row or column headings.\n",
        "From\n",
        "     the menu that appears, select Insert.\n",
        "   * If you selected rows, the new rows will be inserted above your selection.\n",
        "   * If you selected columns, the new columns will be inserted to the left of your selection.\n",
        "\n",
        "\n",
        "# To Delete Multiple Rows/Columns\n",
        "Select:\n",
        "     the multiple rows or columns you wish to delete by clicking and dragging across their headings.\n",
        "Right-click:\n",
        "      on any of the selected row or column headings.\n",
        "From the menu that appears, select Delete. The selected rows or columns will be removed.\n",
        "If you accidentally delete rows or columns, you can undo the action by pressing Ctrl + Z.\n"
      ],
      "metadata": {
        "id": "iVdYMi5KM3DM"
      },
      "execution_count": null,
      "outputs": []
    },
    {
      "cell_type": "code",
      "source": [
        "8.  : Use Excel's 'Find and Replace' feature to update department names in a sample table.\n",
        "\n",
        "    # -> Step 1:\n",
        "     Select the column\n",
        "Click the column header for the \"Department\" column to select all the cells in that column. This prevents you from accidentally changing text elsewhere on your spreadsheet.\n",
        "# Step 2:\n",
        " Open Find and Replace\n",
        "Press Ctrl + H on your keyboard (or Cmd + H on a Mac) to open the \"Find and Replace\" dialog box. You can also find it on the Home tab by clicking Find & Select > Replace.\n",
        "# Step 3:\n",
        " Enter the old and new names\n",
        "In the Find what: box, type the old department name: Mktg.\n",
        "In the Replace with: box, type the new department name: Marketing.\n",
        "# Step 4:\n",
        "#  Perform the replacement\n",
        "Click Replace All to change every instance of \"Mktg\" to \"Marketing\" within your selected column.\n",
        "Optional:\n",
        "      Refine your search with Options\n",
        "Before clicking Replace All, you can click the Options >> button to set advanced search criteria.\n",
        "Match case:\n",
        "     To make the search case-sensitive, check this box.\n",
        "Match entire cell contents: To avoid replacing partial matches, check this box. For example, if you wanted to change \"Bio\" to\n",
        "  \"Biology,\" checking this box would prevent it from also changing \"Biomedical\".\n"
      ],
      "metadata": {
        "id": "UUSyUKIuM3GH"
      },
      "execution_count": null,
      "outputs": []
    },
    {
      "cell_type": "code",
      "source": [
        "9.  : Create a small numerical dataset and apply the following functions:\n",
        "● AVERAGE\n",
        "● MAX\n",
        "● MIN\n",
        "\n",
        "\n",
        "    -> Numerical dataset\n",
        "Here is a small dataset representing the daily high temperatures in Celsius for a week:\n",
        "[22, 25, 23, 27, 25, 24, 26]\n",
        "\n",
        "\n",
        "Apply functions AVERAGE The average, or mean, is calculated by summing all the numbers in the dataset and then dividing by the count of the numbers.\n",
        " Formula: Average = (Sum of all values) / (Number of values)\n",
        "Calculation:Sum the values: \\(22+25+23+27+25+24+26=172\\)\n",
        "Count the values: There are 7 numbers in the dataset\n",
        ".Divide the sum by the count: \\(172/7\\approx 24.57\\)\n",
        "Result: The average temperature is approximately 24.57°C.\n",
        "\n",
        "# MAX\n",
        "The MAX function finds the highest or largest value in a set of numbers.\n",
        "Calculation: Look through the dataset [22, 25, 23, 27, 25, 24, 26] to find the highest number.\n",
        "\n",
        "Result: The maximum temperature is 27°C.\n",
        "\n",
        "# MIN\n",
        "The MIN function finds the lowest or smallest value in a set of numbers.\n",
        "Calculation:\n",
        "     Look through the dataset [22, 25, 23, 27, 25, 24, 26] to find the lowest number.\n",
        "\n",
        "Result: The minimum temperature is 22°C."
      ],
      "metadata": {
        "id": "87TkKxF3QHLH"
      },
      "execution_count": null,
      "outputs": []
    },
    {
      "cell_type": "code",
      "source": [
        "10."
      ],
      "metadata": {
        "id": "kW7_Y7IEQHW0"
      },
      "execution_count": null,
      "outputs": []
    }
  ]
}